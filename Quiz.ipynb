{
  "nbformat": 4,
  "nbformat_minor": 0,
  "metadata": {
    "colab": {
      "provenance": [],
      "authorship_tag": "ABX9TyO+SnEJ7ZCMyMHqxPtlUOf3",
      "include_colab_link": true
    },
    "kernelspec": {
      "name": "python3",
      "display_name": "Python 3"
    },
    "language_info": {
      "name": "python"
    }
  },
  "cells": [
    {
      "cell_type": "markdown",
      "metadata": {
        "id": "view-in-github",
        "colab_type": "text"
      },
      "source": [
        "<a href=\"https://colab.research.google.com/github/HimashaJayasooriya/Quiz/blob/main/Quiz.ipynb\" target=\"_parent\"><img src=\"https://colab.research.google.com/assets/colab-badge.svg\" alt=\"Open In Colab\"/></a>"
      ]
    },
    {
      "cell_type": "markdown",
      "source": [
        "Question 1\n"
      ],
      "metadata": {
        "id": "Gf46lmotjT6s"
      }
    },
    {
      "cell_type": "code",
      "source": [
        "import pandas as pd\n",
        "\n",
        "# Load the Excel file, specifying the correct header row (row index 2, since pandas uses 0-based indexing)\n",
        "file_path = '/content/sagatave_eksamenam.xlsx'\n",
        "df = pd.read_excel(file_path, sheet_name='Lapa_0', header=2)  # Adjust header row if needed\n",
        "\n",
        "# Verify column names (print them to debug)\n",
        "print(\"Columns in the DataFrame:\", df.columns.tolist())\n",
        "\n",
        "# Filter records where:\n",
        "# - Address column (adjust name if needed, e.g., 'Adresse' or 'Address') starts with \"Ain\"\n",
        "# - Quantity column ('Skaits') is less than 40\n",
        "filtered_df = df[\n",
        "    df['Adrese'].str.startswith('Ain', na=False)  # Use the exact column name from df.columns\n",
        "    & (df['Skaits'] < 40)\n",
        "]\n",
        "\n",
        "# Count matching records\n",
        "count = len(filtered_df)\n",
        "print(f\"Number of records where address starts with 'Ain' and quantity < 40: {count}\")"
      ],
      "metadata": {
        "colab": {
          "base_uri": "https://localhost:8080/"
        },
        "id": "np-zQMAojYMX",
        "outputId": "e37ebdd8-0d8c-4a58-fc88-516227a44dbc"
      },
      "execution_count": 8,
      "outputs": [
        {
          "output_type": "stream",
          "name": "stdout",
          "text": [
            "Columns in the DataFrame: ['Nr', 'Dati', 'Klienta vārds', 'Adrese', 'Pilsēta', 'Klients', 'Atbildīga persona', 'Prioritāte', 'Produkts', 'Piegādes datums', 'Cena', 'Skaits', 'Piegādes cena', 'Kopā']\n",
            "Number of records where address starts with 'Ain' and quantity < 40: 63\n"
          ]
        }
      ]
    },
    {
      "cell_type": "markdown",
      "source": [
        "Question 2"
      ],
      "metadata": {
        "id": "ohI8xh2Jnnvm"
      }
    },
    {
      "cell_type": "code",
      "source": [
        "# Convert 'Piegādes datums' to datetime (if not already)\n",
        "df['Piegādes datums'] = pd.to_datetime(df['Piegādes datums'])\n",
        "\n",
        "# Filter records where:\n",
        "# - Priority is 'High' (case-sensitive, adjust if needed)\n",
        "# - Delivery year is 2015\n",
        "filtered_df = df[\n",
        "    (df['Prioritāte'] == 'High') &\n",
        "    (df['Piegādes datums'].dt.year == 2015)\n",
        "]\n",
        "\n",
        "# Count matching records\n",
        "count = len(filtered_df)\n",
        "print(f\"Number of High-priority entries delivered in 2015: {count}\")"
      ],
      "metadata": {
        "colab": {
          "base_uri": "https://localhost:8080/"
        },
        "id": "AWiun5eFnpZ4",
        "outputId": "c7cd160e-8240-445e-8277-65a7902eb57c"
      },
      "execution_count": 9,
      "outputs": [
        {
          "output_type": "stream",
          "name": "stdout",
          "text": [
            "Number of High-priority entries delivered in 2015: 72\n"
          ]
        }
      ]
    },
    {
      "cell_type": "markdown",
      "source": [
        "Question 3"
      ],
      "metadata": {
        "id": "m2xWxWnhoPJ3"
      }
    },
    {
      "cell_type": "code",
      "source": [
        "# Filter the DataFrame\n",
        "filtered_df = df[\n",
        "    (df['Adrese'] == 'Adulienas iela') &\n",
        "    (df['Pilsēta'].isin(['Valmiera', 'Saulkrasti']))\n",
        "]\n",
        "\n",
        "# Count the occurrences\n",
        "count = len(filtered_df)\n",
        "\n",
        "print(f\"The address 'Adulienas iela' appears {count} times in Valmiera or Saulkrasti.\")"
      ],
      "metadata": {
        "colab": {
          "base_uri": "https://localhost:8080/"
        },
        "id": "M6uaD0TWoQ6d",
        "outputId": "cae80dea-ffc1-42d2-d72b-a3a8fabaf218"
      },
      "execution_count": 10,
      "outputs": [
        {
          "output_type": "stream",
          "name": "stdout",
          "text": [
            "The address 'Adulienas iela' appears 29 times in Valmiera or Saulkrasti.\n"
          ]
        }
      ]
    },
    {
      "cell_type": "markdown",
      "source": [
        "Question 4"
      ],
      "metadata": {
        "id": "TOSL4z30o8mD"
      }
    },
    {
      "cell_type": "code",
      "source": [
        "import math\n",
        "# Filter products containing 'LaserJet' (case insensitive)\n",
        "laserjet_products = df[df['Produkts'].str.contains('LaserJet', case=False, na=False)]\n",
        "\n",
        "# Calculate average price and round down\n",
        "average_price = laserjet_products['Cena'].mean()\n",
        "average_price_floor = math.floor(average_price)\n",
        "\n",
        "print(f\"The average price for LaserJet products is: {average_price_floor}\")"
      ],
      "metadata": {
        "colab": {
          "base_uri": "https://localhost:8080/"
        },
        "id": "GVek2wMao-qK",
        "outputId": "76fe64ef-eb98-449e-fed9-d1a85b01ac84"
      },
      "execution_count": 11,
      "outputs": [
        {
          "output_type": "stream",
          "name": "stdout",
          "text": [
            "The average price for LaserJet products is: 377\n"
          ]
        }
      ]
    },
    {
      "cell_type": "markdown",
      "source": [
        "Question 5"
      ],
      "metadata": {
        "id": "ckcr7yulpjP-"
      }
    },
    {
      "cell_type": "code",
      "source": [
        "# Filter for:\n",
        "# - Corporate clients (Korporatīvais)\n",
        "# - Product count between 40-50 (inclusive)\n",
        "filtered_df = df[\n",
        "    (df['Klients'] == 'Korporatīvais') &\n",
        "    (df['Skaits'] >= 40) &\n",
        "    (df['Skaits'] <= 50)\n",
        "]\n",
        "\n",
        "# Calculate total sum of 'Kopā' and round down\n",
        "total_sum = filtered_df['Kopā'].sum()\n",
        "total_sum_floor = math.floor(total_sum)\n",
        "\n",
        "print(f\"Total sum for corporate clients with 40-50 products: {total_sum_floor}\")"
      ],
      "metadata": {
        "colab": {
          "base_uri": "https://localhost:8080/"
        },
        "id": "rSR9tqsXpkso",
        "outputId": "b29a83f0-4c04-49b5-cf1a-f9a7ae4337bf"
      },
      "execution_count": 12,
      "outputs": [
        {
          "output_type": "stream",
          "name": "stdout",
          "text": [
            "Total sum for corporate clients with 40-50 products: 105514\n"
          ]
        }
      ]
    }
  ]
}